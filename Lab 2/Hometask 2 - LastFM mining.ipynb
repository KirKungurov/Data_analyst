{
 "cells": [
  {
   "cell_type": "markdown",
   "metadata": {},
   "source": [
    "# Last FM hometask <br>\n",
    "https://www.kaggle.com/ravichaubey1506/lastfm <br>\n",
    "1. Выберите данные по странам своей группы (совместно): <br>\n",
    "    3530203_80101: Spain, Portugal, France, Italy, Belgium<br>\n",
    "    3530203_80102: Germany, Netherlands <br>\n",
    "    3530903_80301: Belarus, Ukraine, Poland, Russian Federation<br>\n",
    "    3530903_80302: Sweden, Finland, Norway, Denmark, Iceland<br>\n",
    "    \n",
    "2. Попытайтесь найти полезные с точки зрения продвижения групп (или еще чего-нибудь) и нетривиальные правила, используя алгоритмы Apriori, FPGrowth, FPMax и всевозможные метрики. Найдите и объясните хотя бы 5 правил.\n",
    "3. Выведите эти правила в отдельных ячейках. \n",
    "4. Подумайте, как можно было бы использовать полученные правила на практике."
   ]
  },
  {
   "cell_type": "code",
   "execution_count": 1,
   "metadata": {},
   "outputs": [],
   "source": [
    "import pandas as pd\n",
    "from mlxtend.frequent_patterns import apriori, fpgrowth, fpmax, association_rules"
   ]
  },
  {
   "cell_type": "code",
   "execution_count": 2,
   "metadata": {},
   "outputs": [
    {
     "data": {
      "text/plain": "   user                   artist sex  country\n0     1    red hot chili peppers   f  Germany\n1     1  the black dahlia murder   f  Germany\n2     1                goldfrapp   f  Germany\n3     1         dropkick murphys   f  Germany\n4     1                 le tigre   f  Germany\n5     1               schandmaul   f  Germany\n6     1                    edguy   f  Germany",
      "text/html": "<div>\n<style scoped>\n    .dataframe tbody tr th:only-of-type {\n        vertical-align: middle;\n    }\n\n    .dataframe tbody tr th {\n        vertical-align: top;\n    }\n\n    .dataframe thead th {\n        text-align: right;\n    }\n</style>\n<table border=\"1\" class=\"dataframe\">\n  <thead>\n    <tr style=\"text-align: right;\">\n      <th></th>\n      <th>user</th>\n      <th>artist</th>\n      <th>sex</th>\n      <th>country</th>\n    </tr>\n  </thead>\n  <tbody>\n    <tr>\n      <th>0</th>\n      <td>1</td>\n      <td>red hot chili peppers</td>\n      <td>f</td>\n      <td>Germany</td>\n    </tr>\n    <tr>\n      <th>1</th>\n      <td>1</td>\n      <td>the black dahlia murder</td>\n      <td>f</td>\n      <td>Germany</td>\n    </tr>\n    <tr>\n      <th>2</th>\n      <td>1</td>\n      <td>goldfrapp</td>\n      <td>f</td>\n      <td>Germany</td>\n    </tr>\n    <tr>\n      <th>3</th>\n      <td>1</td>\n      <td>dropkick murphys</td>\n      <td>f</td>\n      <td>Germany</td>\n    </tr>\n    <tr>\n      <th>4</th>\n      <td>1</td>\n      <td>le tigre</td>\n      <td>f</td>\n      <td>Germany</td>\n    </tr>\n    <tr>\n      <th>5</th>\n      <td>1</td>\n      <td>schandmaul</td>\n      <td>f</td>\n      <td>Germany</td>\n    </tr>\n    <tr>\n      <th>6</th>\n      <td>1</td>\n      <td>edguy</td>\n      <td>f</td>\n      <td>Germany</td>\n    </tr>\n  </tbody>\n</table>\n</div>"
     },
     "execution_count": 2,
     "metadata": {},
     "output_type": "execute_result"
    }
   ],
   "source": [
    "data = pd.read_csv(\"lastfm.csv\")\n",
    "data.head(7)"
   ]
  },
  {
   "cell_type": "code",
   "execution_count": 3,
   "outputs": [
    {
     "data": {
      "text/plain": "         user               artist sex   country\n83          6           lily allen   m  Portugal\n84          6           kanye west   m  Portugal\n85          6            sigur rós   m  Portugal\n86          6           pink floyd   m  Portugal\n87          6        stevie wonder   m  Portugal\n...       ...                  ...  ..       ...\n289758  19707     the decemberists   m     Spain\n289759  19707  my bloody valentine   m     Spain\n289760  19707           bloc party   m     Spain\n289761  19707            new order   m     Spain\n289762  19707       arctic monkeys   m     Spain\n\n[27214 rows x 4 columns]",
      "text/html": "<div>\n<style scoped>\n    .dataframe tbody tr th:only-of-type {\n        vertical-align: middle;\n    }\n\n    .dataframe tbody tr th {\n        vertical-align: top;\n    }\n\n    .dataframe thead th {\n        text-align: right;\n    }\n</style>\n<table border=\"1\" class=\"dataframe\">\n  <thead>\n    <tr style=\"text-align: right;\">\n      <th></th>\n      <th>user</th>\n      <th>artist</th>\n      <th>sex</th>\n      <th>country</th>\n    </tr>\n  </thead>\n  <tbody>\n    <tr>\n      <th>83</th>\n      <td>6</td>\n      <td>lily allen</td>\n      <td>m</td>\n      <td>Portugal</td>\n    </tr>\n    <tr>\n      <th>84</th>\n      <td>6</td>\n      <td>kanye west</td>\n      <td>m</td>\n      <td>Portugal</td>\n    </tr>\n    <tr>\n      <th>85</th>\n      <td>6</td>\n      <td>sigur rós</td>\n      <td>m</td>\n      <td>Portugal</td>\n    </tr>\n    <tr>\n      <th>86</th>\n      <td>6</td>\n      <td>pink floyd</td>\n      <td>m</td>\n      <td>Portugal</td>\n    </tr>\n    <tr>\n      <th>87</th>\n      <td>6</td>\n      <td>stevie wonder</td>\n      <td>m</td>\n      <td>Portugal</td>\n    </tr>\n    <tr>\n      <th>...</th>\n      <td>...</td>\n      <td>...</td>\n      <td>...</td>\n      <td>...</td>\n    </tr>\n    <tr>\n      <th>289758</th>\n      <td>19707</td>\n      <td>the decemberists</td>\n      <td>m</td>\n      <td>Spain</td>\n    </tr>\n    <tr>\n      <th>289759</th>\n      <td>19707</td>\n      <td>my bloody valentine</td>\n      <td>m</td>\n      <td>Spain</td>\n    </tr>\n    <tr>\n      <th>289760</th>\n      <td>19707</td>\n      <td>bloc party</td>\n      <td>m</td>\n      <td>Spain</td>\n    </tr>\n    <tr>\n      <th>289761</th>\n      <td>19707</td>\n      <td>new order</td>\n      <td>m</td>\n      <td>Spain</td>\n    </tr>\n    <tr>\n      <th>289762</th>\n      <td>19707</td>\n      <td>arctic monkeys</td>\n      <td>m</td>\n      <td>Spain</td>\n    </tr>\n  </tbody>\n</table>\n<p>27214 rows × 4 columns</p>\n</div>"
     },
     "execution_count": 3,
     "metadata": {},
     "output_type": "execute_result"
    }
   ],
   "source": [
    "data_SPFIB=data[(data.country==\"Spain\")|(data.country==\"Portugal\")|(data.country==\"France\")|(data.country==\"Italy\")|(data.country==\"Belgium\")]\n",
    "data_SPFIB"
   ],
   "metadata": {
    "collapsed": false,
    "pycharm": {
     "name": "#%%\n"
    }
   }
  },
  {
   "cell_type": "code",
   "execution_count": 4,
   "outputs": [
    {
     "name": "stdout",
     "output_type": "stream",
     "text": [
      "<class 'pandas.core.frame.DataFrame'>\n",
      "Int64Index: 27214 entries, 83 to 289762\n",
      "Data columns (total 4 columns):\n",
      " #   Column   Non-Null Count  Dtype \n",
      "---  ------   --------------  ----- \n",
      " 0   user     27214 non-null  int64 \n",
      " 1   artist   27214 non-null  object\n",
      " 2   sex      27214 non-null  object\n",
      " 3   country  27214 non-null  object\n",
      "dtypes: int64(1), object(3)\n",
      "memory usage: 1.0+ MB\n"
     ]
    }
   ],
   "source": [
    "data_SPFIB.info()"
   ],
   "metadata": {
    "collapsed": false,
    "pycharm": {
     "name": "#%%\n"
    }
   }
  },
  {
   "cell_type": "markdown",
   "source": [
    "### Количетсво фанатов у каждой группы"
   ],
   "metadata": {
    "collapsed": false
   }
  },
  {
   "cell_type": "code",
   "execution_count": 5,
   "outputs": [
    {
     "data": {
      "text/plain": "artist\n...and you will know us by the trail of dead     8\n2pac                                            16\n3 doors down                                    29\n30 seconds to mars                              42\n311                                              3\n                                                ..\nyeah yeah yeahs                                 26\nyellowcard                                       8\nyo la tengo                                     11\nzero 7                                          13\nÉdith piaf                                      17\nLength: 994, dtype: int64"
     },
     "execution_count": 5,
     "metadata": {},
     "output_type": "execute_result"
    }
   ],
   "source": [
    "# dummy encoding for artist\n",
    "piv_artist = data_SPFIB[['user', 'artist']].pivot_table(index='user', columns='artist',aggfunc=any, fill_value=False).astype(int)\n",
    "piv_artist.sum()"
   ],
   "metadata": {
    "collapsed": false,
    "pycharm": {
     "name": "#%%\n"
    }
   }
  },
  {
   "cell_type": "code",
   "execution_count": 6,
   "outputs": [
    {
     "data": {
      "text/plain": "country\nBelgium     160\nFrance      327\nItaly       304\nPortugal    122\nSpain       506\ndtype: int64"
     },
     "execution_count": 6,
     "metadata": {},
     "output_type": "execute_result"
    }
   ],
   "source": [
    "# dummy encoding for country\n",
    "piv_country = data_SPFIB[['user', 'country']].pivot_table(index='user', columns='country',aggfunc=any, fill_value=False).astype(int)\n",
    "piv_country.sum()"
   ],
   "metadata": {
    "collapsed": false,
    "pycharm": {
     "name": "#%%\n"
    }
   }
  },
  {
   "cell_type": "code",
   "execution_count": 7,
   "outputs": [
    {
     "data": {
      "text/plain": "sex\nf     312\nm    1107\ndtype: int64"
     },
     "execution_count": 7,
     "metadata": {},
     "output_type": "execute_result"
    }
   ],
   "source": [
    "# dummy encoding for sex\n",
    "piv_sex = data_SPFIB[['user', 'sex']].pivot_table(index='user', columns='sex',aggfunc=any, fill_value=False).astype(int)\n",
    "piv_sex.sum()"
   ],
   "metadata": {
    "collapsed": false,
    "pycharm": {
     "name": "#%%\n"
    }
   }
  },
  {
   "cell_type": "code",
   "execution_count": 8,
   "outputs": [
    {
     "data": {
      "text/plain": "      ...and you will know us by the trail of dead  2pac  3 doors down  \\\nuser                                                                     \n6                                                0     0             0   \n12                                               0     0             0   \n36                                               0     0             0   \n47                                               0     0             0   \n74                                               0     0             0   \n\n      30 seconds to mars  311  36 crazyfists  44  50 cent  65daysofstatic  \\\nuser                                                                        \n6                      0    0              0   0        0               0   \n12                     0    0              0   0        0               0   \n36                     0    0              0   0        0               0   \n47                     0    0              0   0        0               0   \n74                     0    0              0   0        0               0   \n\n      [unknown]  ...  yo la tengo  zero 7  Édith piaf  Belgium  France  Italy  \\\nuser             ...                                                            \n6             0  ...            0       0           0        0       0      0   \n12            0  ...            0       0           0        0       0      1   \n36            0  ...            0       0           0        0       0      1   \n47            0  ...            0       1           0        0       0      1   \n74            0  ...            0       0           0        0       0      0   \n\n      Portugal  Spain  f  m  \nuser                         \n6            1      0  0  1  \n12           0      0  0  1  \n36           0      0  1  0  \n47           0      0  0  1  \n74           0      1  0  1  \n\n[5 rows x 1001 columns]",
      "text/html": "<div>\n<style scoped>\n    .dataframe tbody tr th:only-of-type {\n        vertical-align: middle;\n    }\n\n    .dataframe tbody tr th {\n        vertical-align: top;\n    }\n\n    .dataframe thead th {\n        text-align: right;\n    }\n</style>\n<table border=\"1\" class=\"dataframe\">\n  <thead>\n    <tr style=\"text-align: right;\">\n      <th></th>\n      <th>...and you will know us by the trail of dead</th>\n      <th>2pac</th>\n      <th>3 doors down</th>\n      <th>30 seconds to mars</th>\n      <th>311</th>\n      <th>36 crazyfists</th>\n      <th>44</th>\n      <th>50 cent</th>\n      <th>65daysofstatic</th>\n      <th>[unknown]</th>\n      <th>...</th>\n      <th>yo la tengo</th>\n      <th>zero 7</th>\n      <th>Édith piaf</th>\n      <th>Belgium</th>\n      <th>France</th>\n      <th>Italy</th>\n      <th>Portugal</th>\n      <th>Spain</th>\n      <th>f</th>\n      <th>m</th>\n    </tr>\n    <tr>\n      <th>user</th>\n      <th></th>\n      <th></th>\n      <th></th>\n      <th></th>\n      <th></th>\n      <th></th>\n      <th></th>\n      <th></th>\n      <th></th>\n      <th></th>\n      <th></th>\n      <th></th>\n      <th></th>\n      <th></th>\n      <th></th>\n      <th></th>\n      <th></th>\n      <th></th>\n      <th></th>\n      <th></th>\n      <th></th>\n    </tr>\n  </thead>\n  <tbody>\n    <tr>\n      <th>6</th>\n      <td>0</td>\n      <td>0</td>\n      <td>0</td>\n      <td>0</td>\n      <td>0</td>\n      <td>0</td>\n      <td>0</td>\n      <td>0</td>\n      <td>0</td>\n      <td>0</td>\n      <td>...</td>\n      <td>0</td>\n      <td>0</td>\n      <td>0</td>\n      <td>0</td>\n      <td>0</td>\n      <td>0</td>\n      <td>1</td>\n      <td>0</td>\n      <td>0</td>\n      <td>1</td>\n    </tr>\n    <tr>\n      <th>12</th>\n      <td>0</td>\n      <td>0</td>\n      <td>0</td>\n      <td>0</td>\n      <td>0</td>\n      <td>0</td>\n      <td>0</td>\n      <td>0</td>\n      <td>0</td>\n      <td>0</td>\n      <td>...</td>\n      <td>0</td>\n      <td>0</td>\n      <td>0</td>\n      <td>0</td>\n      <td>0</td>\n      <td>1</td>\n      <td>0</td>\n      <td>0</td>\n      <td>0</td>\n      <td>1</td>\n    </tr>\n    <tr>\n      <th>36</th>\n      <td>0</td>\n      <td>0</td>\n      <td>0</td>\n      <td>0</td>\n      <td>0</td>\n      <td>0</td>\n      <td>0</td>\n      <td>0</td>\n      <td>0</td>\n      <td>0</td>\n      <td>...</td>\n      <td>0</td>\n      <td>0</td>\n      <td>0</td>\n      <td>0</td>\n      <td>0</td>\n      <td>1</td>\n      <td>0</td>\n      <td>0</td>\n      <td>1</td>\n      <td>0</td>\n    </tr>\n    <tr>\n      <th>47</th>\n      <td>0</td>\n      <td>0</td>\n      <td>0</td>\n      <td>0</td>\n      <td>0</td>\n      <td>0</td>\n      <td>0</td>\n      <td>0</td>\n      <td>0</td>\n      <td>0</td>\n      <td>...</td>\n      <td>0</td>\n      <td>1</td>\n      <td>0</td>\n      <td>0</td>\n      <td>0</td>\n      <td>1</td>\n      <td>0</td>\n      <td>0</td>\n      <td>0</td>\n      <td>1</td>\n    </tr>\n    <tr>\n      <th>74</th>\n      <td>0</td>\n      <td>0</td>\n      <td>0</td>\n      <td>0</td>\n      <td>0</td>\n      <td>0</td>\n      <td>0</td>\n      <td>0</td>\n      <td>0</td>\n      <td>0</td>\n      <td>...</td>\n      <td>0</td>\n      <td>0</td>\n      <td>0</td>\n      <td>0</td>\n      <td>0</td>\n      <td>0</td>\n      <td>0</td>\n      <td>1</td>\n      <td>0</td>\n      <td>1</td>\n    </tr>\n  </tbody>\n</table>\n<p>5 rows × 1001 columns</p>\n</div>"
     },
     "execution_count": 8,
     "metadata": {},
     "output_type": "execute_result"
    }
   ],
   "source": [
    "piv_all = pd.concat([piv_artist, piv_country, piv_sex], axis=1)\n",
    "piv_all.head()"
   ],
   "metadata": {
    "collapsed": false,
    "pycharm": {
     "name": "#%%\n"
    }
   }
  },
  {
   "cell_type": "markdown",
   "source": [
    "# Apriori for artists"
   ],
   "metadata": {
    "collapsed": false
   }
  },
  {
   "cell_type": "code",
   "execution_count": 9,
   "outputs": [
    {
     "data": {
      "text/plain": "      support                           itemsets\n0    0.041579                        ([unknown])\n1    0.043693                 (a perfect circle)\n2    0.073996                            (ac/dc)\n3    0.036646                        (aerosmith)\n4    0.092319                              (air)\n..        ...                                ...\n264  0.035941                    (u2, radiohead)\n265  0.035941  (the rolling stones, the beatles)\n266  0.031712         (the strokes, the beatles)\n267  0.039464         (the strokes, the killers)\n268  0.038760        (muse, coldplay, radiohead)\n\n[269 rows x 2 columns]",
      "text/html": "<div>\n<style scoped>\n    .dataframe tbody tr th:only-of-type {\n        vertical-align: middle;\n    }\n\n    .dataframe tbody tr th {\n        vertical-align: top;\n    }\n\n    .dataframe thead th {\n        text-align: right;\n    }\n</style>\n<table border=\"1\" class=\"dataframe\">\n  <thead>\n    <tr style=\"text-align: right;\">\n      <th></th>\n      <th>support</th>\n      <th>itemsets</th>\n    </tr>\n  </thead>\n  <tbody>\n    <tr>\n      <th>0</th>\n      <td>0.041579</td>\n      <td>([unknown])</td>\n    </tr>\n    <tr>\n      <th>1</th>\n      <td>0.043693</td>\n      <td>(a perfect circle)</td>\n    </tr>\n    <tr>\n      <th>2</th>\n      <td>0.073996</td>\n      <td>(ac/dc)</td>\n    </tr>\n    <tr>\n      <th>3</th>\n      <td>0.036646</td>\n      <td>(aerosmith)</td>\n    </tr>\n    <tr>\n      <th>4</th>\n      <td>0.092319</td>\n      <td>(air)</td>\n    </tr>\n    <tr>\n      <th>...</th>\n      <td>...</td>\n      <td>...</td>\n    </tr>\n    <tr>\n      <th>264</th>\n      <td>0.035941</td>\n      <td>(u2, radiohead)</td>\n    </tr>\n    <tr>\n      <th>265</th>\n      <td>0.035941</td>\n      <td>(the rolling stones, the beatles)</td>\n    </tr>\n    <tr>\n      <th>266</th>\n      <td>0.031712</td>\n      <td>(the strokes, the beatles)</td>\n    </tr>\n    <tr>\n      <th>267</th>\n      <td>0.039464</td>\n      <td>(the strokes, the killers)</td>\n    </tr>\n    <tr>\n      <th>268</th>\n      <td>0.038760</td>\n      <td>(muse, coldplay, radiohead)</td>\n    </tr>\n  </tbody>\n</table>\n<p>269 rows × 2 columns</p>\n</div>"
     },
     "execution_count": 9,
     "metadata": {},
     "output_type": "execute_result"
    }
   ],
   "source": [
    "apriori_artist = apriori(piv_artist, min_support=0.03, use_colnames=True)\n",
    "apriori_artist"
   ],
   "metadata": {
    "collapsed": false,
    "pycharm": {
     "name": "#%%\n"
    }
   }
  },
  {
   "cell_type": "markdown",
   "source": [
    "### Apriori by confidence for artists"
   ],
   "metadata": {
    "collapsed": false
   }
  },
  {
   "cell_type": "code",
   "execution_count": 10,
   "outputs": [
    {
     "data": {
      "text/plain": "        antecedents        consequents  antecedent support  \\\n19          (keane)         (coldplay)            0.038055   \n7            (beck)        (radiohead)            0.047216   \n14           (blur)        (radiohead)            0.047921   \n23    (snow patrol)         (coldplay)            0.050740   \n40  (kaiser chiefs)      (the killers)            0.050740   \n32  (kaiser chiefs)  (franz ferdinand)            0.050740   \n\n    consequent support   support  confidence      lift  leverage  conviction  \n19            0.188161  0.033122    0.870370  4.625676  0.025961    6.262760  \n7             0.237491  0.032417    0.686567  2.890916  0.021204    2.432766  \n14            0.237491  0.030303    0.632353  2.662637  0.018922    2.074024  \n23            0.188161  0.031712    0.625000  3.321629  0.022165    2.164905  \n40            0.109937  0.031008    0.611111  5.558761  0.025430    2.288735  \n32            0.095842  0.030303    0.597222  6.231311  0.025440    2.244806  ",
      "text/html": "<div>\n<style scoped>\n    .dataframe tbody tr th:only-of-type {\n        vertical-align: middle;\n    }\n\n    .dataframe tbody tr th {\n        vertical-align: top;\n    }\n\n    .dataframe thead th {\n        text-align: right;\n    }\n</style>\n<table border=\"1\" class=\"dataframe\">\n  <thead>\n    <tr style=\"text-align: right;\">\n      <th></th>\n      <th>antecedents</th>\n      <th>consequents</th>\n      <th>antecedent support</th>\n      <th>consequent support</th>\n      <th>support</th>\n      <th>confidence</th>\n      <th>lift</th>\n      <th>leverage</th>\n      <th>conviction</th>\n    </tr>\n  </thead>\n  <tbody>\n    <tr>\n      <th>19</th>\n      <td>(keane)</td>\n      <td>(coldplay)</td>\n      <td>0.038055</td>\n      <td>0.188161</td>\n      <td>0.033122</td>\n      <td>0.870370</td>\n      <td>4.625676</td>\n      <td>0.025961</td>\n      <td>6.262760</td>\n    </tr>\n    <tr>\n      <th>7</th>\n      <td>(beck)</td>\n      <td>(radiohead)</td>\n      <td>0.047216</td>\n      <td>0.237491</td>\n      <td>0.032417</td>\n      <td>0.686567</td>\n      <td>2.890916</td>\n      <td>0.021204</td>\n      <td>2.432766</td>\n    </tr>\n    <tr>\n      <th>14</th>\n      <td>(blur)</td>\n      <td>(radiohead)</td>\n      <td>0.047921</td>\n      <td>0.237491</td>\n      <td>0.030303</td>\n      <td>0.632353</td>\n      <td>2.662637</td>\n      <td>0.018922</td>\n      <td>2.074024</td>\n    </tr>\n    <tr>\n      <th>23</th>\n      <td>(snow patrol)</td>\n      <td>(coldplay)</td>\n      <td>0.050740</td>\n      <td>0.188161</td>\n      <td>0.031712</td>\n      <td>0.625000</td>\n      <td>3.321629</td>\n      <td>0.022165</td>\n      <td>2.164905</td>\n    </tr>\n    <tr>\n      <th>40</th>\n      <td>(kaiser chiefs)</td>\n      <td>(the killers)</td>\n      <td>0.050740</td>\n      <td>0.109937</td>\n      <td>0.031008</td>\n      <td>0.611111</td>\n      <td>5.558761</td>\n      <td>0.025430</td>\n      <td>2.288735</td>\n    </tr>\n    <tr>\n      <th>32</th>\n      <td>(kaiser chiefs)</td>\n      <td>(franz ferdinand)</td>\n      <td>0.050740</td>\n      <td>0.095842</td>\n      <td>0.030303</td>\n      <td>0.597222</td>\n      <td>6.231311</td>\n      <td>0.025440</td>\n      <td>2.244806</td>\n    </tr>\n  </tbody>\n</table>\n</div>"
     },
     "execution_count": 10,
     "metadata": {},
     "output_type": "execute_result"
    }
   ],
   "source": [
    "apriori_artist_rules = association_rules(apriori_artist, metric=\"confidence\", min_threshold=0.4)\n",
    "apriori_artist_rules.sort_values('confidence', ascending=False).head(6)"
   ],
   "metadata": {
    "collapsed": false,
    "pycharm": {
     "name": "#%%\n"
    }
   }
  },
  {
   "cell_type": "markdown",
   "source": [
    "### Apriori by support for artists"
   ],
   "metadata": {
    "collapsed": false,
    "pycharm": {
     "name": "#%% md\n"
    }
   }
  },
  {
   "cell_type": "code",
   "source": [
    "apriori_artist_rules = association_rules(apriori_artist, metric=\"support\", min_threshold=0.03)\n",
    "apriori_artist_rules.sort_values('support', ascending=False).head(6)"
   ],
   "metadata": {
    "collapsed": false,
    "pycharm": {
     "name": "#%%\n"
    }
   },
   "execution_count": 11,
   "outputs": [
    {
     "data": {
      "text/plain": "       antecedents    consequents  antecedent support  consequent support  \\\n66      (coldplay)    (radiohead)            0.188161            0.237491   \n67     (radiohead)     (coldplay)            0.237491            0.188161   \n141    (radiohead)         (muse)            0.237491            0.174066   \n140         (muse)    (radiohead)            0.174066            0.237491   \n184  (the beatles)    (radiohead)            0.174066            0.237491   \n185    (radiohead)  (the beatles)            0.237491            0.174066   \n\n      support  confidence      lift  leverage  conviction  \n66   0.083157    0.441948  1.860901  0.038471    1.366375  \n67   0.083157    0.350148  1.860901  0.038471    1.249269  \n141  0.080338    0.338279  1.943392  0.038999    1.248160  \n140  0.080338    0.461538  1.943392  0.038999    1.416088  \n184  0.070472    0.404858  1.704730  0.029133    1.281222  \n185  0.070472    0.296736  1.704730  0.029133    1.174429  ",
      "text/html": "<div>\n<style scoped>\n    .dataframe tbody tr th:only-of-type {\n        vertical-align: middle;\n    }\n\n    .dataframe tbody tr th {\n        vertical-align: top;\n    }\n\n    .dataframe thead th {\n        text-align: right;\n    }\n</style>\n<table border=\"1\" class=\"dataframe\">\n  <thead>\n    <tr style=\"text-align: right;\">\n      <th></th>\n      <th>antecedents</th>\n      <th>consequents</th>\n      <th>antecedent support</th>\n      <th>consequent support</th>\n      <th>support</th>\n      <th>confidence</th>\n      <th>lift</th>\n      <th>leverage</th>\n      <th>conviction</th>\n    </tr>\n  </thead>\n  <tbody>\n    <tr>\n      <th>66</th>\n      <td>(coldplay)</td>\n      <td>(radiohead)</td>\n      <td>0.188161</td>\n      <td>0.237491</td>\n      <td>0.083157</td>\n      <td>0.441948</td>\n      <td>1.860901</td>\n      <td>0.038471</td>\n      <td>1.366375</td>\n    </tr>\n    <tr>\n      <th>67</th>\n      <td>(radiohead)</td>\n      <td>(coldplay)</td>\n      <td>0.237491</td>\n      <td>0.188161</td>\n      <td>0.083157</td>\n      <td>0.350148</td>\n      <td>1.860901</td>\n      <td>0.038471</td>\n      <td>1.249269</td>\n    </tr>\n    <tr>\n      <th>141</th>\n      <td>(radiohead)</td>\n      <td>(muse)</td>\n      <td>0.237491</td>\n      <td>0.174066</td>\n      <td>0.080338</td>\n      <td>0.338279</td>\n      <td>1.943392</td>\n      <td>0.038999</td>\n      <td>1.248160</td>\n    </tr>\n    <tr>\n      <th>140</th>\n      <td>(muse)</td>\n      <td>(radiohead)</td>\n      <td>0.174066</td>\n      <td>0.237491</td>\n      <td>0.080338</td>\n      <td>0.461538</td>\n      <td>1.943392</td>\n      <td>0.038999</td>\n      <td>1.416088</td>\n    </tr>\n    <tr>\n      <th>184</th>\n      <td>(the beatles)</td>\n      <td>(radiohead)</td>\n      <td>0.174066</td>\n      <td>0.237491</td>\n      <td>0.070472</td>\n      <td>0.404858</td>\n      <td>1.704730</td>\n      <td>0.029133</td>\n      <td>1.281222</td>\n    </tr>\n    <tr>\n      <th>185</th>\n      <td>(radiohead)</td>\n      <td>(the beatles)</td>\n      <td>0.237491</td>\n      <td>0.174066</td>\n      <td>0.070472</td>\n      <td>0.296736</td>\n      <td>1.704730</td>\n      <td>0.029133</td>\n      <td>1.174429</td>\n    </tr>\n  </tbody>\n</table>\n</div>"
     },
     "execution_count": 11,
     "metadata": {},
     "output_type": "execute_result"
    }
   ]
  },
  {
   "cell_type": "markdown",
   "source": [
    "## Apriori for artists, sex and country\n"
   ],
   "metadata": {
    "collapsed": false,
    "pycharm": {
     "name": "#%% md\n"
    }
   }
  },
  {
   "cell_type": "code",
   "execution_count": 12,
   "outputs": [
    {
     "data": {
      "text/plain": "      support                              itemsets\n0    0.041579                           ([unknown])\n1    0.043693                    (a perfect circle)\n2    0.073996                               (ac/dc)\n3    0.036646                           (aerosmith)\n4    0.092319                                 (air)\n..        ...                                   ...\n505  0.032417  (the rolling stones, m, the beatles)\n506  0.038760               (Italy, m, the beatles)\n507  0.042283               (m, Spain, the beatles)\n508  0.031008         (the strokes, m, the killers)\n509  0.045807               (m, Spain, the killers)\n\n[510 rows x 2 columns]",
      "text/html": "<div>\n<style scoped>\n    .dataframe tbody tr th:only-of-type {\n        vertical-align: middle;\n    }\n\n    .dataframe tbody tr th {\n        vertical-align: top;\n    }\n\n    .dataframe thead th {\n        text-align: right;\n    }\n</style>\n<table border=\"1\" class=\"dataframe\">\n  <thead>\n    <tr style=\"text-align: right;\">\n      <th></th>\n      <th>support</th>\n      <th>itemsets</th>\n    </tr>\n  </thead>\n  <tbody>\n    <tr>\n      <th>0</th>\n      <td>0.041579</td>\n      <td>([unknown])</td>\n    </tr>\n    <tr>\n      <th>1</th>\n      <td>0.043693</td>\n      <td>(a perfect circle)</td>\n    </tr>\n    <tr>\n      <th>2</th>\n      <td>0.073996</td>\n      <td>(ac/dc)</td>\n    </tr>\n    <tr>\n      <th>3</th>\n      <td>0.036646</td>\n      <td>(aerosmith)</td>\n    </tr>\n    <tr>\n      <th>4</th>\n      <td>0.092319</td>\n      <td>(air)</td>\n    </tr>\n    <tr>\n      <th>...</th>\n      <td>...</td>\n      <td>...</td>\n    </tr>\n    <tr>\n      <th>505</th>\n      <td>0.032417</td>\n      <td>(the rolling stones, m, the beatles)</td>\n    </tr>\n    <tr>\n      <th>506</th>\n      <td>0.038760</td>\n      <td>(Italy, m, the beatles)</td>\n    </tr>\n    <tr>\n      <th>507</th>\n      <td>0.042283</td>\n      <td>(m, Spain, the beatles)</td>\n    </tr>\n    <tr>\n      <th>508</th>\n      <td>0.031008</td>\n      <td>(the strokes, m, the killers)</td>\n    </tr>\n    <tr>\n      <th>509</th>\n      <td>0.045807</td>\n      <td>(m, Spain, the killers)</td>\n    </tr>\n  </tbody>\n</table>\n<p>510 rows × 2 columns</p>\n</div>"
     },
     "execution_count": 12,
     "metadata": {},
     "output_type": "execute_result"
    }
   ],
   "source": [
    "apriori_all = apriori(piv_all, min_support=0.03, use_colnames=True)\n",
    "apriori_all"
   ],
   "metadata": {
    "collapsed": false,
    "pycharm": {
     "name": "#%%\n"
    }
   }
  },
  {
   "cell_type": "markdown",
   "source": [
    "### Apriori by confidence for artists, sex and country"
   ],
   "metadata": {
    "collapsed": false,
    "pycharm": {
     "name": "#%% md\n"
    }
   }
  },
  {
   "cell_type": "code",
   "execution_count": 13,
   "outputs": [
    {
     "name": "stdout",
     "output_type": "stream",
     "text": [
      "found 747 rules\n"
     ]
    },
    {
     "data": {
      "text/plain": "                 antecedents consequents  antecedent support  \\\n587  (metallica, pink floyd)         (m)            0.031712   \n581     (nirvana, metallica)         (m)            0.034531   \n18              (aphex twin)         (m)            0.034531   \n533      (France, daft punk)         (m)            0.035941   \n361                 (slayer)         (m)            0.032417   \n\n     consequent support   support  confidence      lift  leverage  conviction  \n587            0.780127  0.031008    0.977778  1.253357  0.006268    9.894292  \n581            0.780127  0.033122    0.959184  1.229523  0.006183    5.386892  \n18             0.780127  0.033122    0.959184  1.229523  0.006183    5.386892  \n533            0.780127  0.033827    0.941176  1.206440  0.005788    3.737844  \n361            0.780127  0.030303    0.934783  1.198244  0.005014    3.371388  ",
      "text/html": "<div>\n<style scoped>\n    .dataframe tbody tr th:only-of-type {\n        vertical-align: middle;\n    }\n\n    .dataframe tbody tr th {\n        vertical-align: top;\n    }\n\n    .dataframe thead th {\n        text-align: right;\n    }\n</style>\n<table border=\"1\" class=\"dataframe\">\n  <thead>\n    <tr style=\"text-align: right;\">\n      <th></th>\n      <th>antecedents</th>\n      <th>consequents</th>\n      <th>antecedent support</th>\n      <th>consequent support</th>\n      <th>support</th>\n      <th>confidence</th>\n      <th>lift</th>\n      <th>leverage</th>\n      <th>conviction</th>\n    </tr>\n  </thead>\n  <tbody>\n    <tr>\n      <th>587</th>\n      <td>(metallica, pink floyd)</td>\n      <td>(m)</td>\n      <td>0.031712</td>\n      <td>0.780127</td>\n      <td>0.031008</td>\n      <td>0.977778</td>\n      <td>1.253357</td>\n      <td>0.006268</td>\n      <td>9.894292</td>\n    </tr>\n    <tr>\n      <th>581</th>\n      <td>(nirvana, metallica)</td>\n      <td>(m)</td>\n      <td>0.034531</td>\n      <td>0.780127</td>\n      <td>0.033122</td>\n      <td>0.959184</td>\n      <td>1.229523</td>\n      <td>0.006183</td>\n      <td>5.386892</td>\n    </tr>\n    <tr>\n      <th>18</th>\n      <td>(aphex twin)</td>\n      <td>(m)</td>\n      <td>0.034531</td>\n      <td>0.780127</td>\n      <td>0.033122</td>\n      <td>0.959184</td>\n      <td>1.229523</td>\n      <td>0.006183</td>\n      <td>5.386892</td>\n    </tr>\n    <tr>\n      <th>533</th>\n      <td>(France, daft punk)</td>\n      <td>(m)</td>\n      <td>0.035941</td>\n      <td>0.780127</td>\n      <td>0.033827</td>\n      <td>0.941176</td>\n      <td>1.206440</td>\n      <td>0.005788</td>\n      <td>3.737844</td>\n    </tr>\n    <tr>\n      <th>361</th>\n      <td>(slayer)</td>\n      <td>(m)</td>\n      <td>0.032417</td>\n      <td>0.780127</td>\n      <td>0.030303</td>\n      <td>0.934783</td>\n      <td>1.198244</td>\n      <td>0.005014</td>\n      <td>3.371388</td>\n    </tr>\n  </tbody>\n</table>\n</div>"
     },
     "execution_count": 13,
     "metadata": {},
     "output_type": "execute_result"
    }
   ],
   "source": [
    "apriori_all_rules = association_rules(apriori_all, metric=\"confidence\", min_threshold=0.1)\n",
    "print(\"found\", len(apriori_all_rules), \"rules\")\n",
    "apriori_all_rules.sort_values('confidence', ascending=False).head(5)"
   ],
   "metadata": {
    "collapsed": false,
    "pycharm": {
     "name": "#%%\n"
    }
   }
  },
  {
   "cell_type": "code",
   "execution_count": 14,
   "outputs": [
    {
     "data": {
      "text/plain": "              antecedents       consequents  antecedent support  \\\n558         (iron maiden)    (m, metallica)            0.073291   \n680           (sigur rós)    (m, radiohead)            0.086681   \n553            (interpol)    (m, radiohead)            0.079634   \n428                 (air)    (m, radiohead)            0.092319   \n725  (the rolling stones)  (m, the beatles)            0.072586   \n\n     consequent support   support  confidence      lift  leverage  conviction  \n558            0.109232  0.036646    0.500000  4.577419  0.028640    1.781536  \n680            0.193094  0.042283    0.487805  2.526260  0.025546    1.575388  \n553            0.193094  0.035941    0.451327  2.337349  0.020564    1.470652  \n428            0.193094  0.041579    0.450382  2.332451  0.023752    1.468121  \n725            0.137421  0.032417    0.446602  3.249888  0.022442    1.558696  ",
      "text/html": "<div>\n<style scoped>\n    .dataframe tbody tr th:only-of-type {\n        vertical-align: middle;\n    }\n\n    .dataframe tbody tr th {\n        vertical-align: top;\n    }\n\n    .dataframe thead th {\n        text-align: right;\n    }\n</style>\n<table border=\"1\" class=\"dataframe\">\n  <thead>\n    <tr style=\"text-align: right;\">\n      <th></th>\n      <th>antecedents</th>\n      <th>consequents</th>\n      <th>antecedent support</th>\n      <th>consequent support</th>\n      <th>support</th>\n      <th>confidence</th>\n      <th>lift</th>\n      <th>leverage</th>\n      <th>conviction</th>\n    </tr>\n  </thead>\n  <tbody>\n    <tr>\n      <th>558</th>\n      <td>(iron maiden)</td>\n      <td>(m, metallica)</td>\n      <td>0.073291</td>\n      <td>0.109232</td>\n      <td>0.036646</td>\n      <td>0.500000</td>\n      <td>4.577419</td>\n      <td>0.028640</td>\n      <td>1.781536</td>\n    </tr>\n    <tr>\n      <th>680</th>\n      <td>(sigur rós)</td>\n      <td>(m, radiohead)</td>\n      <td>0.086681</td>\n      <td>0.193094</td>\n      <td>0.042283</td>\n      <td>0.487805</td>\n      <td>2.526260</td>\n      <td>0.025546</td>\n      <td>1.575388</td>\n    </tr>\n    <tr>\n      <th>553</th>\n      <td>(interpol)</td>\n      <td>(m, radiohead)</td>\n      <td>0.079634</td>\n      <td>0.193094</td>\n      <td>0.035941</td>\n      <td>0.451327</td>\n      <td>2.337349</td>\n      <td>0.020564</td>\n      <td>1.470652</td>\n    </tr>\n    <tr>\n      <th>428</th>\n      <td>(air)</td>\n      <td>(m, radiohead)</td>\n      <td>0.092319</td>\n      <td>0.193094</td>\n      <td>0.041579</td>\n      <td>0.450382</td>\n      <td>2.332451</td>\n      <td>0.023752</td>\n      <td>1.468121</td>\n    </tr>\n    <tr>\n      <th>725</th>\n      <td>(the rolling stones)</td>\n      <td>(m, the beatles)</td>\n      <td>0.072586</td>\n      <td>0.137421</td>\n      <td>0.032417</td>\n      <td>0.446602</td>\n      <td>3.249888</td>\n      <td>0.022442</td>\n      <td>1.558696</td>\n    </tr>\n  </tbody>\n</table>\n</div>"
     },
     "execution_count": 14,
     "metadata": {},
     "output_type": "execute_result"
    }
   ],
   "source": [
    "apriori_all_rules[apriori_all_rules['consequents'].map(lambda x: len(x) > 1)].sort_values('confidence', ascending=False).head(5)"
   ],
   "metadata": {
    "collapsed": false,
    "pycharm": {
     "name": "#%%\n"
    }
   }
  },
  {
   "cell_type": "markdown",
   "source": [
    "# FP-growth"
   ],
   "metadata": {
    "collapsed": false
   }
  },
  {
   "cell_type": "markdown",
   "source": [
    "**fp-growth** позволяет установить меньший порог и получить больше наборов, среди которых могут быть интересные правила"
   ],
   "metadata": {
    "collapsed": false,
    "pycharm": {
     "name": "#%% md\n"
    }
   }
  },
  {
   "cell_type": "code",
   "execution_count": 15,
   "outputs": [
    {
     "data": {
      "text/plain": "19860"
     },
     "execution_count": 15,
     "metadata": {},
     "output_type": "execute_result"
    }
   ],
   "source": [
    "fpgrowth_artist = fpgrowth(piv_artist, min_support=0.005, use_colnames=True)\n",
    "len(fpgrowth_artist)"
   ],
   "metadata": {
    "collapsed": false,
    "pycharm": {
     "name": "#%%\n"
    }
   }
  },
  {
   "cell_type": "markdown",
   "source": [
    "### FP-growth by confidence for artists\n"
   ],
   "metadata": {
    "collapsed": false
   }
  },
  {
   "cell_type": "code",
   "execution_count": 16,
   "outputs": [
    {
     "data": {
      "text/plain": "                                   antecedents    consequents  \\\n11611                                  (keane)     (coldplay)   \n1030           (bloc party, muse, the killers)     (coldplay)   \n1682                   (interpol, arcade fire)  (the strokes)   \n5928                (oasis, muse, the killers)     (coldplay)   \n10005  (arctic monkeys, coldplay, the killers)         (muse)   \n993              (bloc party, muse, radiohead)     (coldplay)   \n1898        (death cab for cutie, the killers)     (coldplay)   \n1232    (bloc party, arctic monkeys, coldplay)         (muse)   \n11498                (nirvana, massive attack)    (radiohead)   \n10144                        (oasis, interpol)         (muse)   \n\n       antecedent support  consequent support   support  confidence      lift  \\\n11611            0.038055            0.188161  0.033122    0.870370  4.625676   \n1030             0.023256            0.188161  0.019732    0.848485  4.509363   \n1682             0.022551            0.087385  0.018323    0.812500  9.297883   \n5928             0.020437            0.188161  0.016913    0.827586  4.398295   \n10005            0.021142            0.174066  0.016913    0.800000  4.595951   \n993              0.021142            0.188161  0.016913    0.800000  4.251685   \n1898             0.021142            0.188161  0.016913    0.800000  4.251685   \n1232             0.021142            0.174066  0.016913    0.800000  4.595951   \n11498            0.019732            0.237491  0.016209    0.821429  3.458775   \n10144            0.019732            0.174066  0.016209    0.821429  4.719057   \n\n       leverage  conviction  \n11611  0.025961    6.262760  \n1030   0.015356    5.358140  \n1682   0.016352    4.867277  \n5928   0.013068    4.708668  \n10005  0.013233    4.129669  \n993    0.012935    4.059197  \n1898   0.012935    4.059197  \n1232   0.013233    4.129669  \n11498  0.011522    4.270049  \n10144  0.012774    4.625229  ",
      "text/html": "<div>\n<style scoped>\n    .dataframe tbody tr th:only-of-type {\n        vertical-align: middle;\n    }\n\n    .dataframe tbody tr th {\n        vertical-align: top;\n    }\n\n    .dataframe thead th {\n        text-align: right;\n    }\n</style>\n<table border=\"1\" class=\"dataframe\">\n  <thead>\n    <tr style=\"text-align: right;\">\n      <th></th>\n      <th>antecedents</th>\n      <th>consequents</th>\n      <th>antecedent support</th>\n      <th>consequent support</th>\n      <th>support</th>\n      <th>confidence</th>\n      <th>lift</th>\n      <th>leverage</th>\n      <th>conviction</th>\n    </tr>\n  </thead>\n  <tbody>\n    <tr>\n      <th>11611</th>\n      <td>(keane)</td>\n      <td>(coldplay)</td>\n      <td>0.038055</td>\n      <td>0.188161</td>\n      <td>0.033122</td>\n      <td>0.870370</td>\n      <td>4.625676</td>\n      <td>0.025961</td>\n      <td>6.262760</td>\n    </tr>\n    <tr>\n      <th>1030</th>\n      <td>(bloc party, muse, the killers)</td>\n      <td>(coldplay)</td>\n      <td>0.023256</td>\n      <td>0.188161</td>\n      <td>0.019732</td>\n      <td>0.848485</td>\n      <td>4.509363</td>\n      <td>0.015356</td>\n      <td>5.358140</td>\n    </tr>\n    <tr>\n      <th>1682</th>\n      <td>(interpol, arcade fire)</td>\n      <td>(the strokes)</td>\n      <td>0.022551</td>\n      <td>0.087385</td>\n      <td>0.018323</td>\n      <td>0.812500</td>\n      <td>9.297883</td>\n      <td>0.016352</td>\n      <td>4.867277</td>\n    </tr>\n    <tr>\n      <th>5928</th>\n      <td>(oasis, muse, the killers)</td>\n      <td>(coldplay)</td>\n      <td>0.020437</td>\n      <td>0.188161</td>\n      <td>0.016913</td>\n      <td>0.827586</td>\n      <td>4.398295</td>\n      <td>0.013068</td>\n      <td>4.708668</td>\n    </tr>\n    <tr>\n      <th>10005</th>\n      <td>(arctic monkeys, coldplay, the killers)</td>\n      <td>(muse)</td>\n      <td>0.021142</td>\n      <td>0.174066</td>\n      <td>0.016913</td>\n      <td>0.800000</td>\n      <td>4.595951</td>\n      <td>0.013233</td>\n      <td>4.129669</td>\n    </tr>\n    <tr>\n      <th>993</th>\n      <td>(bloc party, muse, radiohead)</td>\n      <td>(coldplay)</td>\n      <td>0.021142</td>\n      <td>0.188161</td>\n      <td>0.016913</td>\n      <td>0.800000</td>\n      <td>4.251685</td>\n      <td>0.012935</td>\n      <td>4.059197</td>\n    </tr>\n    <tr>\n      <th>1898</th>\n      <td>(death cab for cutie, the killers)</td>\n      <td>(coldplay)</td>\n      <td>0.021142</td>\n      <td>0.188161</td>\n      <td>0.016913</td>\n      <td>0.800000</td>\n      <td>4.251685</td>\n      <td>0.012935</td>\n      <td>4.059197</td>\n    </tr>\n    <tr>\n      <th>1232</th>\n      <td>(bloc party, arctic monkeys, coldplay)</td>\n      <td>(muse)</td>\n      <td>0.021142</td>\n      <td>0.174066</td>\n      <td>0.016913</td>\n      <td>0.800000</td>\n      <td>4.595951</td>\n      <td>0.013233</td>\n      <td>4.129669</td>\n    </tr>\n    <tr>\n      <th>11498</th>\n      <td>(nirvana, massive attack)</td>\n      <td>(radiohead)</td>\n      <td>0.019732</td>\n      <td>0.237491</td>\n      <td>0.016209</td>\n      <td>0.821429</td>\n      <td>3.458775</td>\n      <td>0.011522</td>\n      <td>4.270049</td>\n    </tr>\n    <tr>\n      <th>10144</th>\n      <td>(oasis, interpol)</td>\n      <td>(muse)</td>\n      <td>0.019732</td>\n      <td>0.174066</td>\n      <td>0.016209</td>\n      <td>0.821429</td>\n      <td>4.719057</td>\n      <td>0.012774</td>\n      <td>4.625229</td>\n    </tr>\n  </tbody>\n</table>\n</div>"
     },
     "execution_count": 16,
     "metadata": {},
     "output_type": "execute_result"
    }
   ],
   "source": [
    "fpgrowth_artist_rules = association_rules(fpgrowth_artist, metric=\"confidence\", min_threshold=0.8)\n",
    "fpgrowth_artist_rules.sort_values('support', ascending=False).head(10)"
   ],
   "metadata": {
    "collapsed": false,
    "pycharm": {
     "name": "#%%\n"
    }
   }
  },
  {
   "cell_type": "code",
   "execution_count": 17,
   "outputs": [
    {
     "data": {
      "text/plain": "      antecedents    consequents  antecedent support  consequent support  \\\n12     (coldplay)    (radiohead)                 NaN                 NaN   \n13    (radiohead)     (coldplay)                 NaN                 NaN   \n10         (muse)    (radiohead)                 NaN                 NaN   \n11    (radiohead)         (muse)                 NaN                 NaN   \n6   (the beatles)    (radiohead)                 NaN                 NaN   \n7     (radiohead)  (the beatles)                 NaN                 NaN   \n8          (muse)     (coldplay)                 NaN                 NaN   \n9      (coldplay)         (muse)                 NaN                 NaN   \n0      (coldplay)  (the killers)                 NaN                 NaN   \n1   (the killers)     (coldplay)                 NaN                 NaN   \n\n     support  confidence  lift  leverage  conviction  \n12  0.083157         NaN   NaN       NaN         NaN  \n13  0.083157         NaN   NaN       NaN         NaN  \n10  0.080338         NaN   NaN       NaN         NaN  \n11  0.080338         NaN   NaN       NaN         NaN  \n6   0.070472         NaN   NaN       NaN         NaN  \n7   0.070472         NaN   NaN       NaN         NaN  \n8   0.068358         NaN   NaN       NaN         NaN  \n9   0.068358         NaN   NaN       NaN         NaN  \n0   0.055673         NaN   NaN       NaN         NaN  \n1   0.055673         NaN   NaN       NaN         NaN  ",
      "text/html": "<div>\n<style scoped>\n    .dataframe tbody tr th:only-of-type {\n        vertical-align: middle;\n    }\n\n    .dataframe tbody tr th {\n        vertical-align: top;\n    }\n\n    .dataframe thead th {\n        text-align: right;\n    }\n</style>\n<table border=\"1\" class=\"dataframe\">\n  <thead>\n    <tr style=\"text-align: right;\">\n      <th></th>\n      <th>antecedents</th>\n      <th>consequents</th>\n      <th>antecedent support</th>\n      <th>consequent support</th>\n      <th>support</th>\n      <th>confidence</th>\n      <th>lift</th>\n      <th>leverage</th>\n      <th>conviction</th>\n    </tr>\n  </thead>\n  <tbody>\n    <tr>\n      <th>12</th>\n      <td>(coldplay)</td>\n      <td>(radiohead)</td>\n      <td>NaN</td>\n      <td>NaN</td>\n      <td>0.083157</td>\n      <td>NaN</td>\n      <td>NaN</td>\n      <td>NaN</td>\n      <td>NaN</td>\n    </tr>\n    <tr>\n      <th>13</th>\n      <td>(radiohead)</td>\n      <td>(coldplay)</td>\n      <td>NaN</td>\n      <td>NaN</td>\n      <td>0.083157</td>\n      <td>NaN</td>\n      <td>NaN</td>\n      <td>NaN</td>\n      <td>NaN</td>\n    </tr>\n    <tr>\n      <th>10</th>\n      <td>(muse)</td>\n      <td>(radiohead)</td>\n      <td>NaN</td>\n      <td>NaN</td>\n      <td>0.080338</td>\n      <td>NaN</td>\n      <td>NaN</td>\n      <td>NaN</td>\n      <td>NaN</td>\n    </tr>\n    <tr>\n      <th>11</th>\n      <td>(radiohead)</td>\n      <td>(muse)</td>\n      <td>NaN</td>\n      <td>NaN</td>\n      <td>0.080338</td>\n      <td>NaN</td>\n      <td>NaN</td>\n      <td>NaN</td>\n      <td>NaN</td>\n    </tr>\n    <tr>\n      <th>6</th>\n      <td>(the beatles)</td>\n      <td>(radiohead)</td>\n      <td>NaN</td>\n      <td>NaN</td>\n      <td>0.070472</td>\n      <td>NaN</td>\n      <td>NaN</td>\n      <td>NaN</td>\n      <td>NaN</td>\n    </tr>\n    <tr>\n      <th>7</th>\n      <td>(radiohead)</td>\n      <td>(the beatles)</td>\n      <td>NaN</td>\n      <td>NaN</td>\n      <td>0.070472</td>\n      <td>NaN</td>\n      <td>NaN</td>\n      <td>NaN</td>\n      <td>NaN</td>\n    </tr>\n    <tr>\n      <th>8</th>\n      <td>(muse)</td>\n      <td>(coldplay)</td>\n      <td>NaN</td>\n      <td>NaN</td>\n      <td>0.068358</td>\n      <td>NaN</td>\n      <td>NaN</td>\n      <td>NaN</td>\n      <td>NaN</td>\n    </tr>\n    <tr>\n      <th>9</th>\n      <td>(coldplay)</td>\n      <td>(muse)</td>\n      <td>NaN</td>\n      <td>NaN</td>\n      <td>0.068358</td>\n      <td>NaN</td>\n      <td>NaN</td>\n      <td>NaN</td>\n      <td>NaN</td>\n    </tr>\n    <tr>\n      <th>0</th>\n      <td>(coldplay)</td>\n      <td>(the killers)</td>\n      <td>NaN</td>\n      <td>NaN</td>\n      <td>0.055673</td>\n      <td>NaN</td>\n      <td>NaN</td>\n      <td>NaN</td>\n      <td>NaN</td>\n    </tr>\n    <tr>\n      <th>1</th>\n      <td>(the killers)</td>\n      <td>(coldplay)</td>\n      <td>NaN</td>\n      <td>NaN</td>\n      <td>0.055673</td>\n      <td>NaN</td>\n      <td>NaN</td>\n      <td>NaN</td>\n      <td>NaN</td>\n    </tr>\n  </tbody>\n</table>\n</div>"
     },
     "execution_count": 17,
     "metadata": {},
     "output_type": "execute_result"
    }
   ],
   "source": [
    "fpmax_artists = fpmax(piv_artist,min_support=0.05, use_colnames=True)\n",
    "fpmax_artists_rules = association_rules(fpmax_artists, metric=\"confidence\", min_threshold=0.05, support_only=True)\n",
    "fpmax_artists_rules.sort_values('support', ascending=False).head(10)"
   ],
   "metadata": {
    "collapsed": false,
    "pycharm": {
     "name": "#%%\n"
    }
   }
  },
  {
   "cell_type": "code",
   "execution_count": 17,
   "outputs": [],
   "source": [],
   "metadata": {
    "collapsed": false,
    "pycharm": {
     "name": "#%%\n"
    }
   }
  }
 ],
 "metadata": {
  "kernelspec": {
   "display_name": "Python 3 (ipykernel)",
   "language": "python",
   "name": "python3"
  },
  "language_info": {
   "codemirror_mode": {
    "name": "ipython",
    "version": 3
   },
   "file_extension": ".py",
   "mimetype": "text/x-python",
   "name": "python",
   "nbconvert_exporter": "python",
   "pygments_lexer": "ipython3",
   "version": "3.9.7"
  }
 },
 "nbformat": 4,
 "nbformat_minor": 4
}